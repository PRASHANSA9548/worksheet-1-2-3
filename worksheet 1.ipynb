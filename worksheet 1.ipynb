{
 "cells": [
  {
   "cell_type": "markdown",
   "id": "cccd562f",
   "metadata": {},
   "source": [
    "# PYTHON WORKSHEET 1"
   ]
  },
  {
   "cell_type": "markdown",
   "id": "317cc323",
   "metadata": {},
   "source": [
    "# Question No 11"
   ]
  },
  {
   "cell_type": "code",
   "execution_count": 1,
   "id": "71a2e0ac",
   "metadata": {},
   "outputs": [
    {
     "name": "stdout",
     "output_type": "stream",
     "text": [
      "enter the number:5\n",
      "The factorial value of 5is1\n",
      "The factorial value of 5is2\n",
      "The factorial value of 5is6\n",
      "The factorial value of 5is24\n",
      "The factorial value of 5is120\n"
     ]
    }
   ],
   "source": [
    "a= int(input(\"enter the number:\"))\n",
    "num_list=list(range(1,a+1))\n",
    "product=1\n",
    "for number in num_list:\n",
    "    product=product*number\n",
    "    print(f\"The factorial value of {a}is{product}\")"
   ]
  },
  {
   "cell_type": "markdown",
   "id": "73297028",
   "metadata": {},
   "source": [
    "# Question No 12"
   ]
  },
  {
   "cell_type": "code",
   "execution_count": 2,
   "id": "41b1d7b2",
   "metadata": {},
   "outputs": [
    {
     "name": "stdout",
     "output_type": "stream",
     "text": [
      "Enter any number to check whether it is prime or composite :6\n",
      "6 it is composite number\n"
     ]
    }
   ],
   "source": [
    "num = int(input(\"Enter any number to check whether it is prime or composite :\"))\n",
    "\n",
    "if num < 2:\n",
    "    print(num, \"it is composite number\")\n",
    "    \n",
    "else:\n",
    "    for i in range (2, num):\n",
    "        if (num % i) ==0:\n",
    "            print(num, \"it is composite number\")\n",
    "            break\n",
    "            \n",
    "    else:\n",
    "        print(num, \"it is prime number\")"
   ]
  },
  {
   "cell_type": "markdown",
   "id": "b7e5a3b0",
   "metadata": {},
   "source": [
    "# Question No 13"
   ]
  },
  {
   "cell_type": "code",
   "execution_count": 3,
   "id": "cb20fa90",
   "metadata": {},
   "outputs": [
    {
     "name": "stdout",
     "output_type": "stream",
     "text": [
      "Enter any string :NITIN\n",
      "Palindrome String\n"
     ]
    }
   ],
   "source": [
    "a =input(\"Enter any string :\")\n",
    "b =a[-1::-1]\n",
    "if(a==b):\n",
    "    print(\"Palindrome String\")\n",
    "else:\n",
    "    print(\"Not Palindrome String\")"
   ]
  },
  {
   "cell_type": "markdown",
   "id": "66924c84",
   "metadata": {},
   "source": [
    "# Question No 14"
   ]
  },
  {
   "cell_type": "code",
   "execution_count": 5,
   "id": "1cd67693",
   "metadata": {},
   "outputs": [],
   "source": [
    "from math import sqrt"
   ]
  },
  {
   "cell_type": "code",
   "execution_count": 6,
   "id": "e96faff2",
   "metadata": {},
   "outputs": [
    {
     "name": "stdout",
     "output_type": "stream",
     "text": [
      "Enter the First side of right angle triangle :15\n",
      "Enter the Second side of right angle triangle :25\n",
      "Third side of right angle triangle = 850.0\n"
     ]
    }
   ],
   "source": [
    "a=float(input(\"Enter the First side of right angle triangle :\"))\n",
    "b=float(input(\"Enter the Second side of right angle triangle :\"))\n",
    "c=(a**2+b**2)\n",
    "print(\"Third side of right angle triangle =\",c)"
   ]
  },
  {
   "cell_type": "markdown",
   "id": "73b9459c",
   "metadata": {},
   "source": [
    "# Question No 15"
   ]
  },
  {
   "cell_type": "code",
   "execution_count": 7,
   "id": "23f2896e",
   "metadata": {},
   "outputs": [
    {
     "name": "stdout",
     "output_type": "stream",
     "text": [
      "Enter any String :PRASHANSA\n",
      "{'P': 1, 'R': 1, 'A': 3, 'S': 2, 'H': 1, 'N': 1}\n"
     ]
    }
   ],
   "source": [
    "user =input(\"Enter any String :\")\n",
    "d1 = dict()\n",
    "for c in user:\n",
    "    if c in d1:\n",
    "        d1[c] = d1[c]+1\n",
    "    else:\n",
    "        d1[c]=1\n",
    "print(d1)"
   ]
  },
  {
   "cell_type": "markdown",
   "id": "6511a530",
   "metadata": {},
   "source": [
    "# PYTHON WORKSHEET 2"
   ]
  },
  {
   "cell_type": "markdown",
   "id": "3386de91",
   "metadata": {},
   "source": [
    "# QUESTION NO 14"
   ]
  },
  {
   "cell_type": "code",
   "execution_count": 8,
   "id": "254c2b2d",
   "metadata": {},
   "outputs": [],
   "source": [
    "import math"
   ]
  },
  {
   "cell_type": "code",
   "execution_count": 9,
   "id": "e31e06b7",
   "metadata": {},
   "outputs": [
    {
     "name": "stdout",
     "output_type": "stream",
     "text": [
      "Enter the value of a:1\n",
      "Enter the value of b:-5\n",
      "Enter the value of c:6\n",
      "Discriminant =  1\n",
      "Roots are real and unequal\n",
      "First root : 3.0\n",
      "Second root : 2.0\n"
     ]
    }
   ],
   "source": [
    "a=int(input(\"Enter the value of a:\"))\n",
    "b=int(input(\"Enter the value of b:\"))\n",
    "c=int(input(\"Enter the value of c:\"))\n",
    "\n",
    "dis=(b**2)-(4*a*c)\n",
    "print(\"Discriminant = \",dis)\n",
    "if dis== 0:\n",
    "    print(\"Roots are real and equal\")\n",
    "    r1 = (-b)/(2*a)\n",
    "    r2 = (-b)/(2*a)\n",
    "    print(\"First root :\",r1)\n",
    "    print(\"Second root :\",r2)\n",
    "elif dis>0:\n",
    "    print(\"Roots are real and unequal\")\n",
    "    r1 = ((-b)+(sqrt(dis)))/(2*a)\n",
    "    r2 = ((-b)-(sqrt(dis)))/(2*a)\n",
    "    print(\"First root :\",r1)\n",
    "    print(\"Second root :\",r2)\n",
    "else:\n",
    "    print(\"Roots are imaginary\")"
   ]
  },
  {
   "cell_type": "markdown",
   "id": "d198dba7",
   "metadata": {},
   "source": [
    "# Question No 15"
   ]
  },
  {
   "cell_type": "code",
   "execution_count": 10,
   "id": "2bf5df32",
   "metadata": {},
   "outputs": [
    {
     "name": "stdout",
     "output_type": "stream",
     "text": [
      "Enter a number here: 7\n",
      "The sum of enter num here 28\n"
     ]
    }
   ],
   "source": [
    "num=int(input(\"Enter a number here: \"))\n",
    "sum=(int(num*(num+1)/2))\n",
    "print(\"The sum of enter num here\", sum)"
   ]
  },
  {
   "cell_type": "markdown",
   "id": "f56ebce3",
   "metadata": {},
   "source": [
    "# PYTHON WORKSHEET 3"
   ]
  },
  {
   "cell_type": "markdown",
   "id": "46fa1432",
   "metadata": {},
   "source": [
    "# Question No 11"
   ]
  },
  {
   "cell_type": "code",
   "execution_count": 11,
   "id": "2df220a5",
   "metadata": {},
   "outputs": [
    {
     "name": "stdout",
     "output_type": "stream",
     "text": [
      "Enter the number of rows:5\n",
      "    * \n",
      "   * * \n",
      "  * * * \n",
      " * * * * \n",
      "* * * * * \n"
     ]
    }
   ],
   "source": [
    "x=int(input(\"Enter the number of rows:\"))\n",
    "for i in range (x):\n",
    "    for j in range (x-i-1):\n",
    "        print(\" \",end=\"\")\n",
    "    for j in range(i+1):\n",
    "        print(\"*\",end=\" \")\n",
    "    print()"
   ]
  },
  {
   "cell_type": "markdown",
   "id": "60610146",
   "metadata": {},
   "source": [
    "# Question No 12"
   ]
  },
  {
   "cell_type": "code",
   "execution_count": 12,
   "id": "13438099",
   "metadata": {},
   "outputs": [
    {
     "name": "stdout",
     "output_type": "stream",
     "text": [
      "Enter the number here:7\n",
      "* * * * * * * \n",
      " * * * * * * \n",
      "  * * * * * \n",
      "   * * * * \n",
      "    * * * \n",
      "     * * \n",
      "      * \n",
      "     * * \n",
      "    * * * \n",
      "   * * * * \n",
      "  * * * * * \n",
      " * * * * * * \n",
      "* * * * * * * \n"
     ]
    }
   ],
   "source": [
    "n=int(input(\"Enter the number here:\"))\n",
    "for i in range(n,0,-1):\n",
    "    for j in range(n,i,-1):\n",
    "        print(end=\" \")\n",
    "    for k in range(0,i):\n",
    "        print(\"*\",end=\" \")\n",
    "    print()\n",
    "for i in range(1,n):\n",
    "    for j in range(0,n-i-1):\n",
    "        print(end=\" \")\n",
    "    for k in range(0,i+1):\n",
    "        print(\"*\",end=\" \")\n",
    "    print()\n",
    "    "
   ]
  },
  {
   "cell_type": "markdown",
   "id": "2b75f8ce",
   "metadata": {},
   "source": [
    "# Question No 13"
   ]
  },
  {
   "cell_type": "code",
   "execution_count": 13,
   "id": "78590ba8",
   "metadata": {},
   "outputs": [
    {
     "name": "stdout",
     "output_type": "stream",
     "text": [
      "Enter the number of rows:5\n",
      "    1\n",
      "   11\n",
      "  121\n",
      " 1331\n",
      "14641\n"
     ]
    }
   ],
   "source": [
    "n=int(input(\"Enter the number of rows:\"))\n",
    "list1 =[]\n",
    "for i in range (n):\n",
    "    temp_list=[]\n",
    "    for j in range(i+1):\n",
    "        if j==0 or j==i:\n",
    "            temp_list.append(1)\n",
    "        else:\n",
    "            temp_list.append(list1[i-1][j-1]+ list1[i-1][j])\n",
    "    list1.append(temp_list)\n",
    "    \n",
    "for i in range (n):\n",
    "    for j in range (n-i-1):\n",
    "        print(\" \",end=\"\")\n",
    "    for j in range(i+1):\n",
    "        print(list1[i][j],end=\"\")\n",
    "    print()\n",
    "      "
   ]
  },
  {
   "cell_type": "markdown",
   "id": "2abc7065",
   "metadata": {},
   "source": [
    "# Question No 14"
   ]
  },
  {
   "cell_type": "code",
   "execution_count": 14,
   "id": "28cd1bf8",
   "metadata": {},
   "outputs": [
    {
     "name": "stdout",
     "output_type": "stream",
     "text": [
      "Enter number of rows:5\n",
      "      *\n",
      "     * *\n",
      "    * * *\n",
      "   * * * *\n",
      "  * * * * *\n",
      "   * * * *\n",
      "    * * *\n",
      "     * *\n",
      "      *\n"
     ]
    }
   ],
   "source": [
    "row = int(input(\"Enter number of rows:\"))\n",
    "for i in range(row):\n",
    "    print(\" \"*(row-i)+\" *\"*(i+1))\n",
    "for j in range(row-1):\n",
    "    print(\" \"*(j+2)+\" *\"*(row-1-j))"
   ]
  },
  {
   "cell_type": "markdown",
   "id": "1265e92b",
   "metadata": {},
   "source": [
    "# Question No 15"
   ]
  },
  {
   "cell_type": "code",
   "execution_count": null,
   "id": "427e7844",
   "metadata": {},
   "outputs": [],
   "source": []
  }
 ],
 "metadata": {
  "kernelspec": {
   "display_name": "Python 3 (ipykernel)",
   "language": "python",
   "name": "python3"
  },
  "language_info": {
   "codemirror_mode": {
    "name": "ipython",
    "version": 3
   },
   "file_extension": ".py",
   "mimetype": "text/x-python",
   "name": "python",
   "nbconvert_exporter": "python",
   "pygments_lexer": "ipython3",
   "version": "3.9.12"
  }
 },
 "nbformat": 4,
 "nbformat_minor": 5
}
